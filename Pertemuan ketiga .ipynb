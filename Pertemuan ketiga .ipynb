{
 "cells": [
  {
   "cell_type": "markdown",
   "id": "96120dd7",
   "metadata": {},
   "source": [
    "# String Index"
   ]
  },
  {
   "cell_type": "code",
   "execution_count": 15,
   "id": "8d0b448f",
   "metadata": {},
   "outputs": [
    {
     "name": "stdout",
     "output_type": "stream",
     "text": [
      "ANTON\n"
     ]
    }
   ],
   "source": [
    "Budi = \"ANTON MAKAN AYAM\"\n",
    "print(Budi[0:5])"
   ]
  },
  {
   "cell_type": "code",
   "execution_count": 8,
   "id": "188e9c50",
   "metadata": {},
   "outputs": [
    {
     "name": "stdout",
     "output_type": "stream",
     "text": [
      "ANTON MAKAN AYA\n"
     ]
    }
   ],
   "source": [
    "print(Budi[0:-1])"
   ]
  },
  {
   "cell_type": "code",
   "execution_count": 11,
   "id": "7cc8acb2",
   "metadata": {},
   "outputs": [
    {
     "name": "stdout",
     "output_type": "stream",
     "text": [
      "T K A\n"
     ]
    }
   ],
   "source": [
    "# 2 = urutan ke 2 dari 0 (T)\n",
    "# -1 = sampai A, sebelum M \n",
    "# 3 = loncat 3 kali\n",
    "# loncat 3 kali = spasi \n",
    "# loncat 3 kali lagi = K\n",
    "# loncat 3 kali lagi = spasi \n",
    "# loncat 3 kali lagi = A\n",
    "print(Budi[2:-1:3])"
   ]
  },
  {
   "cell_type": "code",
   "execution_count": 12,
   "id": "a8cdfbaf",
   "metadata": {},
   "outputs": [
    {
     "name": "stdout",
     "output_type": "stream",
     "text": [
      "NTON\n"
     ]
    }
   ],
   "source": [
    "print (Budi[1:5])"
   ]
  },
  {
   "cell_type": "code",
   "execution_count": 13,
   "id": "296fd797",
   "metadata": {},
   "outputs": [
    {
     "name": "stdout",
     "output_type": "stream",
     "text": [
      "ANTON MAKAN AYAM\n"
     ]
    }
   ],
   "source": [
    "print(Budi[:])"
   ]
  },
  {
   "cell_type": "code",
   "execution_count": null,
   "id": "6331b55c",
   "metadata": {},
   "outputs": [],
   "source": [
    "SAYA = \"SAYA KULIAH DI UNIVERSITAS UDAYANA\""
   ]
  },
  {
   "cell_type": "markdown",
   "id": "d6f4c080",
   "metadata": {},
   "source": [
    "# Strings Methods"
   ]
  },
  {
   "cell_type": "code",
   "execution_count": 18,
   "id": "996f7b88",
   "metadata": {},
   "outputs": [
    {
     "name": "stdout",
     "output_type": "stream",
     "text": [
      "35\n"
     ]
    }
   ],
   "source": [
    "judul = \"Universitas Udayana Kampus Tercinta\"\n",
    "print(len(judul))\n",
    "# len artinya jumlah suku kata "
   ]
  },
  {
   "cell_type": "code",
   "execution_count": 19,
   "id": "440c1045",
   "metadata": {},
   "outputs": [
    {
     "data": {
      "text/plain": [
       "'UNIVERSITAS UDAYANA KAMPUS TERCINTA'"
      ]
     },
     "execution_count": 19,
     "metadata": {},
     "output_type": "execute_result"
    }
   ],
   "source": [
    "judul.upper()\n",
    "# upper digunakan untuk merubah kalimat menjadi huruf besar"
   ]
  },
  {
   "cell_type": "code",
   "execution_count": 20,
   "id": "c315c20f",
   "metadata": {},
   "outputs": [
    {
     "data": {
      "text/plain": [
       "'universitas udayana kampus tercinta'"
      ]
     },
     "execution_count": 20,
     "metadata": {},
     "output_type": "execute_result"
    }
   ],
   "source": [
    "judul.lower()\n",
    "# lower digunakan untuk merubah kalimat menjadi huruf kecil"
   ]
  },
  {
   "cell_type": "code",
   "execution_count": 22,
   "id": "7b7ecfe3",
   "metadata": {},
   "outputs": [
    {
     "data": {
      "text/plain": [
       "0"
      ]
     },
     "execution_count": 22,
     "metadata": {},
     "output_type": "execute_result"
    }
   ],
   "source": [
    "judul.find(\"Universitas\")\n",
    "# urutan dari huruf pertama, urutan dari U itu 0"
   ]
  },
  {
   "cell_type": "code",
   "execution_count": 23,
   "id": "c934abdb",
   "metadata": {},
   "outputs": [
    {
     "data": {
      "text/plain": [
       "20"
      ]
     },
     "execution_count": 23,
     "metadata": {},
     "output_type": "execute_result"
    }
   ],
   "source": [
    "judul.find(\"Kampus\")"
   ]
  },
  {
   "cell_type": "markdown",
   "id": "1d1defbb",
   "metadata": {},
   "source": [
    "# Operasi Matematika di Python"
   ]
  },
  {
   "cell_type": "code",
   "execution_count": 24,
   "id": "b9bf66a5",
   "metadata": {},
   "outputs": [
    {
     "name": "stdout",
     "output_type": "stream",
     "text": [
      "550\n"
     ]
    }
   ],
   "source": [
    "print(100+450)"
   ]
  },
  {
   "cell_type": "code",
   "execution_count": 26,
   "id": "c7512c43",
   "metadata": {},
   "outputs": [
    {
     "name": "stdout",
     "output_type": "stream",
     "text": [
      "60\n",
      "80\n"
     ]
    }
   ],
   "source": [
    "a = 40\n",
    "b = 30\n",
    "c = 10\n",
    "print (a+b-c)\n",
    "print (a+b-(-c))"
   ]
  },
  {
   "cell_type": "code",
   "execution_count": 27,
   "id": "c2956724",
   "metadata": {},
   "outputs": [
    {
     "name": "stdout",
     "output_type": "stream",
     "text": [
      "43.0\n"
     ]
    }
   ],
   "source": [
    "print (a+b/c)"
   ]
  },
  {
   "cell_type": "code",
   "execution_count": 32,
   "id": "1072cec9",
   "metadata": {},
   "outputs": [
    {
     "name": "stdout",
     "output_type": "stream",
     "text": [
      "0\n"
     ]
    }
   ],
   "source": [
    "print (a*(b%c))"
   ]
  },
  {
   "cell_type": "markdown",
   "id": "91986ee8",
   "metadata": {},
   "source": [
    "# Operator Perbandingan di Python"
   ]
  },
  {
   "cell_type": "code",
   "execution_count": 36,
   "id": "3c0648a5",
   "metadata": {},
   "outputs": [
    {
     "name": "stdout",
     "output_type": "stream",
     "text": [
      "True\n",
      "False\n",
      "True\n"
     ]
    }
   ],
   "source": [
    "x = 7>5\n",
    "print(x)\n",
    "x = 7<5\n",
    "print(x)\n",
    "x = 7 >= 5\n",
    "print(x)"
   ]
  },
  {
   "cell_type": "code",
   "execution_count": 44,
   "id": "53deb0a7",
   "metadata": {},
   "outputs": [
    {
     "name": "stdout",
     "output_type": "stream",
     "text": [
      "True\n",
      "True\n",
      "False\n"
     ]
    }
   ],
   "source": [
    "# == artinya sama dengan \n",
    "x = 5 == 5\n",
    "print(x)\n",
    "# != artinya tidak sama dengan \n",
    "x = 5 != 7\n",
    "print(x)\n",
    "x = 7 != 7\n",
    "print(x) # akan bernilai false karena 7 artinya sama dengan "
   ]
  },
  {
   "cell_type": "code",
   "execution_count": 43,
   "id": "411f9f3a",
   "metadata": {},
   "outputs": [
    {
     "name": "stdout",
     "output_type": "stream",
     "text": [
      "False\n"
     ]
    }
   ],
   "source": [
    "x <= 4 >= 4\n",
    "print (x)"
   ]
  },
  {
   "cell_type": "markdown",
   "id": "baec428a",
   "metadata": {},
   "source": [
    "### bernilai false karena pernyataan bernilai salah"
   ]
  },
  {
   "cell_type": "markdown",
   "id": "0cf118ed",
   "metadata": {},
   "source": [
    "# Operator Logika di Python"
   ]
  },
  {
   "cell_type": "code",
   "execution_count": 47,
   "id": "ed3c46c3",
   "metadata": {},
   "outputs": [
    {
     "name": "stdout",
     "output_type": "stream",
     "text": [
      "False\n"
     ]
    }
   ],
   "source": [
    "semangka = 25 \n",
    "jeruk = 50\n",
    "print(semangka > jeruk)"
   ]
  },
  {
   "cell_type": "code",
   "execution_count": 48,
   "id": "f25cb5c4",
   "metadata": {},
   "outputs": [
    {
     "name": "stdout",
     "output_type": "stream",
     "text": [
      "True\n"
     ]
    }
   ],
   "source": [
    "print (semangka > 10 and jeruk > 30)"
   ]
  },
  {
   "cell_type": "code",
   "execution_count": 49,
   "id": "d3d3f30a",
   "metadata": {},
   "outputs": [
    {
     "name": "stdout",
     "output_type": "stream",
     "text": [
      "False\n"
     ]
    }
   ],
   "source": [
    "print(semangka > 50 and jeruk > 70)"
   ]
  },
  {
   "cell_type": "code",
   "execution_count": 50,
   "id": "dd34aa1a",
   "metadata": {},
   "outputs": [
    {
     "name": "stdout",
     "output_type": "stream",
     "text": [
      "True\n"
     ]
    }
   ],
   "source": [
    "print(semangka < 30 or jeruk > 60)"
   ]
  },
  {
   "cell_type": "markdown",
   "id": "154ca828",
   "metadata": {},
   "source": [
    "# Operator If di Python"
   ]
  },
  {
   "cell_type": "code",
   "execution_count": 5,
   "id": "c14aabcf",
   "metadata": {},
   "outputs": [
    {
     "name": "stdout",
     "output_type": "stream",
     "text": [
      "Nilai anda adalah 90\n",
      "Anda mendapatkan nilai A\n",
      "Nilai anda sangat bagus, pertahankan!\n"
     ]
    }
   ],
   "source": [
    "nilai = float(input(\"Nilai anda adalah \"))\n",
    "if nilai >= 80:\n",
    "    print(\"Anda mendapatkan nilai A\")\n",
    "    print(\"Nilai anda sangat bagus, pertahankan!\")\n",
    "if nilai < 80 and nilai >= 70:\n",
    "    print(\"Anda mendapatkan nilai B\")\n",
    "    print(\"Nilai anda baik, semangat belajar!\")\n",
    "if nilai >= 60 and nilai < 70:\n",
    "    print(\"Anda mendapatkan nilai C\")\n",
    "    print(\"Nilai anda cukup, semangat belajar untuk meningkatkan nilai anda!\")\n",
    "if nilai >= 50 and nilai < 60:\n",
    "    print(\"Anda mendapatkan nilai D\")\n",
    "    print(\"Silahkan mengulang tahun depan!\")\n",
    "if nilai < 50:\n",
    "    print(\"Anda mendapatkan nilai E\")\n",
    "    print(\"Silahkan mengulang tahun depan!\")"
   ]
  },
  {
   "cell_type": "code",
   "execution_count": null,
   "id": "5d4fd798",
   "metadata": {},
   "outputs": [],
   "source": []
  }
 ],
 "metadata": {
  "kernelspec": {
   "display_name": "Python 3 (ipykernel)",
   "language": "python",
   "name": "python3"
  },
  "language_info": {
   "codemirror_mode": {
    "name": "ipython",
    "version": 3
   },
   "file_extension": ".py",
   "mimetype": "text/x-python",
   "name": "python",
   "nbconvert_exporter": "python",
   "pygments_lexer": "ipython3",
   "version": "3.9.13"
  }
 },
 "nbformat": 4,
 "nbformat_minor": 5
}
