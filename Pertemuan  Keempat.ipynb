{
 "cells": [
  {
   "cell_type": "markdown",
   "id": "38cc6c02",
   "metadata": {},
   "source": [
    "## While Loop"
   ]
  },
  {
   "cell_type": "markdown",
   "id": "49c0f32b",
   "metadata": {},
   "source": [
    "### While loop akan selalu dieksekusi selama nilainya True dan akan berhenti saat nilainya menjadi false "
   ]
  },
  {
   "cell_type": "code",
   "execution_count": 4,
   "id": "c11fd7b5",
   "metadata": {},
   "outputs": [
    {
     "name": "stdout",
     "output_type": "stream",
     "text": [
      "Angka 0 masih dibawah 5\n",
      "Angka 1 masih dibawah 5\n",
      "Angka 2 masih dibawah 5\n",
      "Angka 3 masih dibawah 5\n",
      "Angka 4 masih dibawah 5\n"
     ]
    }
   ],
   "source": [
    "a = 0 \n",
    "while a < 5:\n",
    "    print ('Angka ' + str(a) + \" masih dibawah 5\")\n",
    "    a += 1"
   ]
  },
  {
   "cell_type": "code",
   "execution_count": 5,
   "id": "abedca98",
   "metadata": {},
   "outputs": [
    {
     "name": "stdout",
     "output_type": "stream",
     "text": [
      "Angka 6 berada diantara 5 sampai 10\n",
      "Angka 7 berada diantara 5 sampai 10\n",
      "Angka 8 berada diantara 5 sampai 10\n",
      "Angka 9 berada diantara 5 sampai 10\n"
     ]
    }
   ],
   "source": [
    "a = 6 \n",
    "while a > 5 and a < 10:  \n",
    "    print (\"Angka \" + str(a) +\" berada diantara 5 sampai 10\")\n",
    "    a += 1"
   ]
  },
  {
   "cell_type": "code",
   "execution_count": null,
   "id": "72609863",
   "metadata": {},
   "outputs": [],
   "source": [
    "x = 0 \n",
    "while x < 2:\n",
    "    y = x**2\n",
    "    print (y)\n",
    "    x = x-1\n",
    "    prin t (x )\n",
    "# akan menghasilkan hasil yang banyakk"
   ]
  },
  {
   "cell_type": "code",
   "execution_count": 1,
   "id": "8a2fc860",
   "metadata": {},
   "outputs": [
    {
     "name": "stdout",
     "output_type": "stream",
     "text": [
      "\n",
      "*\n",
      "**\n",
      "***\n",
      "****\n"
     ]
    }
   ],
   "source": [
    "a = 0 \n",
    "while a < 5:\n",
    "    print(a * \"*\")\n",
    "    a += 1"
   ]
  },
  {
   "cell_type": "code",
   "execution_count": 3,
   "id": "ebec59e4",
   "metadata": {},
   "outputs": [],
   "source": [
    "a = 10\n",
    "while a < 10: \n",
    "    print(a * \"\")"
   ]
  },
  {
   "cell_type": "markdown",
   "id": "7e5bfcd0",
   "metadata": {},
   "source": [
    "## List di Python"
   ]
  },
  {
   "cell_type": "code",
   "execution_count": 4,
   "id": "50a1fa06",
   "metadata": {},
   "outputs": [
    {
     "name": "stdout",
     "output_type": "stream",
     "text": [
      "['mangga', 'pisang', 'rambutan', 'durian']\n"
     ]
    }
   ],
   "source": [
    "buah = ['mangga', 'pisang', 'rambutan', 'durian']\n",
    "print(buah)"
   ]
  },
  {
   "cell_type": "code",
   "execution_count": 5,
   "id": "a67d79ce",
   "metadata": {},
   "outputs": [
    {
     "name": "stdout",
     "output_type": "stream",
     "text": [
      "mangga\n"
     ]
    }
   ],
   "source": [
    "print (buah[0])"
   ]
  },
  {
   "cell_type": "code",
   "execution_count": 6,
   "id": "3a207104",
   "metadata": {},
   "outputs": [
    {
     "name": "stdout",
     "output_type": "stream",
     "text": [
      "durian\n"
     ]
    }
   ],
   "source": [
    "print (buah[-1])"
   ]
  },
  {
   "cell_type": "code",
   "execution_count": 7,
   "id": "a65f8cae",
   "metadata": {},
   "outputs": [
    {
     "ename": "NameError",
     "evalue": "name 'anggur' is not defined",
     "output_type": "error",
     "traceback": [
      "\u001b[1;31m---------------------------------------------------------------------------\u001b[0m",
      "\u001b[1;31mNameError\u001b[0m                                 Traceback (most recent call last)",
      "\u001b[1;32m~\\AppData\\Local\\Temp\\ipykernel_14500\\3675052049.py\u001b[0m in \u001b[0;36m<module>\u001b[1;34m\u001b[0m\n\u001b[1;32m----> 1\u001b[1;33m \u001b[0mbuah\u001b[0m \u001b[1;33m[\u001b[0m\u001b[1;36m0\u001b[0m\u001b[1;33m]\u001b[0m \u001b[1;33m=\u001b[0m \u001b[0manggur\u001b[0m\u001b[1;33m\u001b[0m\u001b[1;33m\u001b[0m\u001b[0m\n\u001b[0m",
      "\u001b[1;31mNameError\u001b[0m: name 'anggur' is not defined"
     ]
    }
   ],
   "source": [
    "buah [0] = anggur\n",
    "# eror karena anggur tidak masuk di daftar buah"
   ]
  },
  {
   "cell_type": "code",
   "execution_count": 8,
   "id": "37deb4a6",
   "metadata": {},
   "outputs": [
    {
     "name": "stdout",
     "output_type": "stream",
     "text": [
      "['1', '2', '3', '4', '5', 'dst']\n"
     ]
    }
   ],
   "source": [
    "bilangan_asli = [\"1\", \"2\", \"3\", \"4\", \"5\", \"dst\"]\n",
    "print (bilangan_asli)"
   ]
  },
  {
   "cell_type": "markdown",
   "id": "55c7b5b6",
   "metadata": {},
   "source": [
    "## Metoda List  "
   ]
  },
  {
   "cell_type": "markdown",
   "id": "828cbcac",
   "metadata": {},
   "source": [
    "### Menambahkan atau menghilangkan isinya"
   ]
  },
  {
   "cell_type": "code",
   "execution_count": 9,
   "id": "f11188e4",
   "metadata": {},
   "outputs": [
    {
     "name": "stdout",
     "output_type": "stream",
     "text": [
      "['Yuni', 'Eka', 'Deswin', 'Intan']\n"
     ]
    }
   ],
   "source": [
    "nama = [\"Yuni\", \"Eka\", \"Deswin\"]\n",
    "nama.append(\"Intan\")\n",
    "# append artinya nambahin tp posisinya di belakang \n",
    "print(nama)"
   ]
  },
  {
   "cell_type": "code",
   "execution_count": 10,
   "id": "9d9d1f72",
   "metadata": {},
   "outputs": [
    {
     "name": "stdout",
     "output_type": "stream",
     "text": [
      "['Yuni', 'Anton', 'Eka', 'Deswin', 'Intan']\n"
     ]
    }
   ],
   "source": [
    "# insert menambahkan (urutan, nama)\n",
    "nama.insert(1,\"Anton\")\n",
    "print(nama)"
   ]
  },
  {
   "cell_type": "code",
   "execution_count": 11,
   "id": "a8c50a14",
   "metadata": {},
   "outputs": [
    {
     "name": "stdout",
     "output_type": "stream",
     "text": [
      "['Yuni', 'Anton', 'Deswin', 'Intan']\n"
     ]
    }
   ],
   "source": [
    "nama.remove('Eka')\n",
    "print(nama)"
   ]
  },
  {
   "cell_type": "code",
   "execution_count": 12,
   "id": "a96f8804",
   "metadata": {},
   "outputs": [
    {
     "name": "stdout",
     "output_type": "stream",
     "text": [
      "False\n"
     ]
    }
   ],
   "source": [
    "print(\"Eka\" in nama)"
   ]
  },
  {
   "cell_type": "code",
   "execution_count": 13,
   "id": "5ec3779a",
   "metadata": {},
   "outputs": [
    {
     "name": "stdout",
     "output_type": "stream",
     "text": [
      "True\n"
     ]
    }
   ],
   "source": [
    "print(\"Yuni\" in nama)"
   ]
  },
  {
   "cell_type": "code",
   "execution_count": 14,
   "id": "cb39ce2e",
   "metadata": {},
   "outputs": [
    {
     "name": "stdout",
     "output_type": "stream",
     "text": [
      "4\n"
     ]
    }
   ],
   "source": [
    "# jumlah banyak nama \n",
    "print(len(nama))"
   ]
  },
  {
   "cell_type": "code",
   "execution_count": 15,
   "id": "5198ec82",
   "metadata": {},
   "outputs": [
    {
     "name": "stdout",
     "output_type": "stream",
     "text": [
      "['2', '4', '6', '10', '12']\n"
     ]
    }
   ],
   "source": [
    "bilangan_genap = ['2','4','6','10','12']\n",
    "print (bilangan_genap)"
   ]
  },
  {
   "cell_type": "code",
   "execution_count": 16,
   "id": "a58a3b7d",
   "metadata": {},
   "outputs": [
    {
     "name": "stdout",
     "output_type": "stream",
     "text": [
      "['2', '4', '6', '8', '10', '12']\n"
     ]
    }
   ],
   "source": [
    "bilangan_genap.insert(3,'8')\n",
    "print(bilangan_genap)"
   ]
  },
  {
   "cell_type": "code",
   "execution_count": 17,
   "id": "79e5aaac",
   "metadata": {},
   "outputs": [
    {
     "name": "stdout",
     "output_type": "stream",
     "text": [
      "True\n"
     ]
    }
   ],
   "source": [
    "print(\"10\" in bilangan_genap)"
   ]
  },
  {
   "cell_type": "code",
   "execution_count": 18,
   "id": "2109d485",
   "metadata": {},
   "outputs": [
    {
     "name": "stdout",
     "output_type": "stream",
     "text": [
      "['2', '6', '8', '10', '12']\n"
     ]
    }
   ],
   "source": [
    "bilangan_genap.remove('4')\n",
    "print(bilangan_genap)"
   ]
  },
  {
   "cell_type": "markdown",
   "id": "58cd2300",
   "metadata": {},
   "source": [
    "## For Loop"
   ]
  },
  {
   "cell_type": "markdown",
   "id": "b97a3e86",
   "metadata": {},
   "source": [
    "### For Loop dapat digunakan untuk memanggil semua isi list"
   ]
  },
  {
   "cell_type": "code",
   "execution_count": 19,
   "id": "b1d46b30",
   "metadata": {},
   "outputs": [
    {
     "name": "stdout",
     "output_type": "stream",
     "text": [
      "mangga\n",
      "pisang\n",
      "rambutan\n",
      "durian\n"
     ]
    }
   ],
   "source": [
    "buah = ['mangga', 'pisang', 'rambutan', 'durian']\n",
    "for jenis in buah: \n",
    "    print(jenis)"
   ]
  },
  {
   "cell_type": "code",
   "execution_count": 20,
   "id": "e794f53e",
   "metadata": {},
   "outputs": [
    {
     "name": "stdout",
     "output_type": "stream",
     "text": [
      "mangga\n",
      "pisang\n",
      "rambutan\n",
      "durian\n"
     ]
    }
   ],
   "source": [
    "i = 0\n",
    "while i < len(buah):\n",
    "    print(buah[i])\n",
    "    i+=1"
   ]
  },
  {
   "cell_type": "code",
   "execution_count": 21,
   "id": "b1cd409d",
   "metadata": {},
   "outputs": [
    {
     "name": "stdout",
     "output_type": "stream",
     "text": [
      "2\n",
      "4\n",
      "6\n",
      "10\n",
      "12\n",
      "14\n"
     ]
    }
   ],
   "source": [
    "bilangan_genap = ['2','4','6','10','12','14']\n",
    "for angka in bilangan_genap:\n",
    "    print(angka)"
   ]
  },
  {
   "cell_type": "code",
   "execution_count": 3,
   "id": "217220ab",
   "metadata": {},
   "outputs": [
    {
     "name": "stdout",
     "output_type": "stream",
     "text": [
      "14\n",
      "12\n",
      "10\n",
      "6\n",
      "4\n",
      "2\n"
     ]
    },
    {
     "ename": "IndexError",
     "evalue": "list index out of range",
     "output_type": "error",
     "traceback": [
      "\u001b[1;31m---------------------------------------------------------------------------\u001b[0m",
      "\u001b[1;31mIndexError\u001b[0m                                Traceback (most recent call last)",
      "\u001b[1;32m~\\AppData\\Local\\Temp\\ipykernel_13284\\4255032415.py\u001b[0m in \u001b[0;36m<module>\u001b[1;34m\u001b[0m\n\u001b[0;32m      1\u001b[0m \u001b[0mi\u001b[0m \u001b[1;33m=\u001b[0m \u001b[1;33m-\u001b[0m\u001b[1;36m1\u001b[0m\u001b[1;33m\u001b[0m\u001b[1;33m\u001b[0m\u001b[0m\n\u001b[0;32m      2\u001b[0m \u001b[1;32mwhile\u001b[0m \u001b[0mi\u001b[0m \u001b[1;33m<\u001b[0m \u001b[0mlen\u001b[0m\u001b[1;33m(\u001b[0m\u001b[0mbilangan_genap\u001b[0m\u001b[1;33m)\u001b[0m\u001b[1;33m:\u001b[0m\u001b[1;33m\u001b[0m\u001b[1;33m\u001b[0m\u001b[0m\n\u001b[1;32m----> 3\u001b[1;33m     \u001b[0mprint\u001b[0m\u001b[1;33m(\u001b[0m\u001b[0mbilangan_genap\u001b[0m\u001b[1;33m[\u001b[0m\u001b[0mi\u001b[0m\u001b[1;33m]\u001b[0m\u001b[1;33m)\u001b[0m\u001b[1;33m\u001b[0m\u001b[1;33m\u001b[0m\u001b[0m\n\u001b[0m\u001b[0;32m      4\u001b[0m     \u001b[0mi\u001b[0m\u001b[1;33m-=\u001b[0m\u001b[1;36m1\u001b[0m\u001b[1;33m\u001b[0m\u001b[1;33m\u001b[0m\u001b[0m\n",
      "\u001b[1;31mIndexError\u001b[0m: list index out of range"
     ]
    }
   ],
   "source": [
    "i = -1\n",
    "while i < len(bilangan_genap):\n",
    "    print(bilangan_genap[i])\n",
    "    i-=1\n",
    "# eror karena bilangan selanjutnya tidak ada "
   ]
  },
  {
   "cell_type": "markdown",
   "id": "6f6f0d2f",
   "metadata": {},
   "source": [
    "## Fungsi Range"
   ]
  },
  {
   "cell_type": "code",
   "execution_count": 22,
   "id": "24456452",
   "metadata": {},
   "outputs": [
    {
     "name": "stdout",
     "output_type": "stream",
     "text": [
      "range(0, 12)\n"
     ]
    }
   ],
   "source": [
    "angka = range(12)\n",
    "print (angka)"
   ]
  },
  {
   "cell_type": "code",
   "execution_count": 23,
   "id": "e2026051",
   "metadata": {},
   "outputs": [
    {
     "name": "stdout",
     "output_type": "stream",
     "text": [
      "0\n",
      "1\n",
      "2\n",
      "3\n",
      "4\n",
      "5\n",
      "6\n",
      "7\n",
      "8\n",
      "9\n",
      "10\n",
      "11\n"
     ]
    }
   ],
   "source": [
    "for isi in angka:\n",
    "    print (isi)\n",
    "# menampilkan angka 1 sampai 11"
   ]
  },
  {
   "cell_type": "code",
   "execution_count": 25,
   "id": "69492fa9",
   "metadata": {},
   "outputs": [
    {
     "name": "stdout",
     "output_type": "stream",
     "text": [
      "15\n",
      "16\n",
      "17\n",
      "18\n",
      "19\n"
     ]
    }
   ],
   "source": [
    "for isi in range(15,20):\n",
    "    print(isi)\n",
    "# menampilkan angka 15 sampai 19"
   ]
  },
  {
   "cell_type": "code",
   "execution_count": 27,
   "id": "a66c714e",
   "metadata": {},
   "outputs": [
    {
     "name": "stdout",
     "output_type": "stream",
     "text": [
      "5\n",
      "8\n",
      "11\n",
      "14\n",
      "17\n"
     ]
    }
   ],
   "source": [
    "for isi in range (5,20,3):\n",
    "    print (isi)\n",
    "# bilangan dari 5 sampai 10 dengan format +3 atau loncat 3"
   ]
  },
  {
   "cell_type": "code",
   "execution_count": null,
   "id": "239ac0a9",
   "metadata": {},
   "outputs": [],
   "source": []
  }
 ],
 "metadata": {
  "kernelspec": {
   "display_name": "Python 3 (ipykernel)",
   "language": "python",
   "name": "python3"
  },
  "language_info": {
   "codemirror_mode": {
    "name": "ipython",
    "version": 3
   },
   "file_extension": ".py",
   "mimetype": "text/x-python",
   "name": "python",
   "nbconvert_exporter": "python",
   "pygments_lexer": "ipython3",
   "version": "3.9.13"
  }
 },
 "nbformat": 4,
 "nbformat_minor": 5
}
