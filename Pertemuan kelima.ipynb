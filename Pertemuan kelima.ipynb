{
 "cells": [
  {
   "cell_type": "markdown",
   "id": "e6c84020",
   "metadata": {},
   "source": [
    "## 5.16 List 2 Dimensi"
   ]
  },
  {
   "cell_type": "markdown",
   "id": "bf4d1f92",
   "metadata": {},
   "source": [
    "List 2 dimensi pada umumnya adalah menempatkan sebuah list di dalam list.\n",
    "Penggambarannya seperti sebuah matrik."
   ]
  },
  {
   "cell_type": "markdown",
   "id": "c6e635d2",
   "metadata": {},
   "source": [
    "#### Contoh Penerapan List 2 Dimensi"
   ]
  },
  {
   "cell_type": "code",
   "execution_count": 2,
   "id": "ff26c0ff",
   "metadata": {},
   "outputs": [
    {
     "name": "stdout",
     "output_type": "stream",
     "text": [
      "[[1, 2, 3, 4], [5, 6, 7, 8], [9, 10, 11, 12], [13, 14, 15, 16]]\n"
     ]
    }
   ],
   "source": [
    "matrik = [\n",
    "    [1,2,3,4],\n",
    "    [5,6,7,8],\n",
    "    [9,10,11,12],\n",
    "    [13,14,15,16]\n",
    "]\n",
    "print (matrik)"
   ]
  },
  {
   "cell_type": "code",
   "execution_count": 3,
   "id": "186ceb95",
   "metadata": {},
   "outputs": [
    {
     "data": {
      "text/plain": [
       "[1, 2, 3, 4]"
      ]
     },
     "execution_count": 3,
     "metadata": {},
     "output_type": "execute_result"
    }
   ],
   "source": [
    "matrik[0]"
   ]
  },
  {
   "cell_type": "code",
   "execution_count": 4,
   "id": "2c23f1e5",
   "metadata": {},
   "outputs": [
    {
     "data": {
      "text/plain": [
       "7"
      ]
     },
     "execution_count": 4,
     "metadata": {},
     "output_type": "execute_result"
    }
   ],
   "source": [
    "matrik [1][2]\n",
    "# diitung dari 0\n",
    "# ini maksudnya baris kedua, kolom ke tiga\n",
    "# ke kanan kolom, kebawah baris"
   ]
  },
  {
   "cell_type": "code",
   "execution_count": 6,
   "id": "302e5ba9",
   "metadata": {},
   "outputs": [
    {
     "data": {
      "text/plain": [
       "15"
      ]
     },
     "execution_count": 6,
     "metadata": {},
     "output_type": "execute_result"
    }
   ],
   "source": [
    "matrik[3][2]"
   ]
  },
  {
   "cell_type": "code",
   "execution_count": 7,
   "id": "bc72e487",
   "metadata": {},
   "outputs": [
    {
     "name": "stdout",
     "output_type": "stream",
     "text": [
      "50\n"
     ]
    }
   ],
   "source": [
    "matrik[2][3] = 50\n",
    "print (matrik[2][3])"
   ]
  },
  {
   "cell_type": "code",
   "execution_count": 8,
   "id": "b6a81477",
   "metadata": {},
   "outputs": [
    {
     "data": {
      "text/plain": [
       "[[1, 2, 3, 4], [5, 6, 7, 8], [9, 10, 11, 50], [13, 14, 15, 16]]"
      ]
     },
     "execution_count": 8,
     "metadata": {},
     "output_type": "execute_result"
    }
   ],
   "source": [
    "matrik\n",
    "# hasil yang muncul dalah yang sudah diperbarui"
   ]
  },
  {
   "cell_type": "markdown",
   "id": "ec684367",
   "metadata": {},
   "source": [
    "#### Cara memanggil anggota dari list 2 dimensi"
   ]
  },
  {
   "cell_type": "code",
   "execution_count": 9,
   "id": "34b0e9eb",
   "metadata": {},
   "outputs": [
    {
     "name": "stdout",
     "output_type": "stream",
     "text": [
      "[1, 2, 3, 4]\n",
      "1\n",
      "2\n",
      "3\n",
      "4\n",
      "[5, 6, 7, 8]\n",
      "5\n",
      "6\n",
      "7\n",
      "8\n",
      "[9, 10, 11, 50]\n",
      "9\n",
      "10\n",
      "11\n",
      "50\n",
      "[13, 14, 15, 16]\n",
      "13\n",
      "14\n",
      "15\n",
      "16\n"
     ]
    }
   ],
   "source": [
    "for baris in matrik:\n",
    "    print(baris)\n",
    "    for kolom in baris:\n",
    "        print (kolom)"
   ]
  },
  {
   "cell_type": "markdown",
   "id": "fb2df883",
   "metadata": {},
   "source": [
    "## 5.17 Tuples"
   ]
  },
  {
   "cell_type": "markdown",
   "id": "548ffbdf",
   "metadata": {},
   "source": [
    "Tuples mirip dengan list, akan tetapi tuples tidak dapat dirubah isinya. Jika kita\n",
    "memiliki data yang tidak ingin dirubah isinya, kita gunakan tuples, sedangkan\n",
    "jika datanya masih ingin dimanipulasi kedepannya, gunakan list."
   ]
  },
  {
   "cell_type": "code",
   "execution_count": 12,
   "id": "d12d7c19",
   "metadata": {},
   "outputs": [],
   "source": [
    "angka = (0,1,1,3,4,5)"
   ]
  },
  {
   "cell_type": "code",
   "execution_count": 13,
   "id": "6f1dd9f3",
   "metadata": {},
   "outputs": [
    {
     "name": "stdout",
     "output_type": "stream",
     "text": [
      "0\n"
     ]
    }
   ],
   "source": [
    "print (angka[0])"
   ]
  },
  {
   "cell_type": "code",
   "execution_count": 14,
   "id": "6ecbce8c",
   "metadata": {},
   "outputs": [
    {
     "name": "stdout",
     "output_type": "stream",
     "text": [
      "(0, 1, 1, 3)\n"
     ]
    }
   ],
   "source": [
    "print (angka[0:4])"
   ]
  },
  {
   "cell_type": "code",
   "execution_count": 15,
   "id": "242fbf18",
   "metadata": {},
   "outputs": [
    {
     "name": "stdout",
     "output_type": "stream",
     "text": [
      "0\n",
      "1\n",
      "1\n",
      "3\n"
     ]
    }
   ],
   "source": [
    "for isi in angka[0:4]:\n",
    "    print (isi)"
   ]
  },
  {
   "cell_type": "code",
   "execution_count": 16,
   "id": "73257394",
   "metadata": {},
   "outputs": [
    {
     "ename": "TypeError",
     "evalue": "'tuple' object does not support item assignment",
     "output_type": "error",
     "traceback": [
      "\u001b[1;31m---------------------------------------------------------------------------\u001b[0m",
      "\u001b[1;31mTypeError\u001b[0m                                 Traceback (most recent call last)",
      "\u001b[1;32m~\\AppData\\Local\\Temp\\ipykernel_19628\\890138559.py\u001b[0m in \u001b[0;36m<module>\u001b[1;34m\u001b[0m\n\u001b[1;32m----> 1\u001b[1;33m \u001b[0mangka\u001b[0m\u001b[1;33m[\u001b[0m\u001b[1;36m1\u001b[0m\u001b[1;33m]\u001b[0m \u001b[1;33m=\u001b[0m \u001b[1;36m8\u001b[0m\u001b[1;33m\u001b[0m\u001b[1;33m\u001b[0m\u001b[0m\n\u001b[0m",
      "\u001b[1;31mTypeError\u001b[0m: 'tuple' object does not support item assignment"
     ]
    }
   ],
   "source": [
    "angka[1] = 8\n",
    "# karena tuples tidak dapat diganti isinya"
   ]
  },
  {
   "cell_type": "code",
   "execution_count": 17,
   "id": "0cdeb78a",
   "metadata": {},
   "outputs": [
    {
     "ename": "AttributeError",
     "evalue": "'tuple' object has no attribute 'append'",
     "output_type": "error",
     "traceback": [
      "\u001b[1;31m---------------------------------------------------------------------------\u001b[0m",
      "\u001b[1;31mAttributeError\u001b[0m                            Traceback (most recent call last)",
      "\u001b[1;32m~\\AppData\\Local\\Temp\\ipykernel_19628\\282113589.py\u001b[0m in \u001b[0;36m<module>\u001b[1;34m\u001b[0m\n\u001b[1;32m----> 1\u001b[1;33m \u001b[0mangka\u001b[0m\u001b[1;33m.\u001b[0m\u001b[0mappend\u001b[0m\u001b[1;33m(\u001b[0m\u001b[1;36m4\u001b[0m\u001b[1;33m)\u001b[0m\u001b[1;33m\u001b[0m\u001b[1;33m\u001b[0m\u001b[0m\n\u001b[0m",
      "\u001b[1;31mAttributeError\u001b[0m: 'tuple' object has no attribute 'append'"
     ]
    }
   ],
   "source": [
    "angka.append(4)\n",
    "# tidak bisa menambahkan"
   ]
  },
  {
   "cell_type": "code",
   "execution_count": 18,
   "id": "60063221",
   "metadata": {},
   "outputs": [
    {
     "ename": "AttributeError",
     "evalue": "'tuple' object has no attribute 'remove'",
     "output_type": "error",
     "traceback": [
      "\u001b[1;31m---------------------------------------------------------------------------\u001b[0m",
      "\u001b[1;31mAttributeError\u001b[0m                            Traceback (most recent call last)",
      "\u001b[1;32m~\\AppData\\Local\\Temp\\ipykernel_19628\\827727016.py\u001b[0m in \u001b[0;36m<module>\u001b[1;34m\u001b[0m\n\u001b[1;32m----> 1\u001b[1;33m \u001b[0mangka\u001b[0m\u001b[1;33m.\u001b[0m\u001b[0mremove\u001b[0m\u001b[1;33m(\u001b[0m\u001b[1;36m0\u001b[0m\u001b[1;33m)\u001b[0m\u001b[1;33m\u001b[0m\u001b[1;33m\u001b[0m\u001b[0m\n\u001b[0m",
      "\u001b[1;31mAttributeError\u001b[0m: 'tuple' object has no attribute 'remove'"
     ]
    }
   ],
   "source": [
    "angka.remove(0)\n",
    "# tidak bisa diganti"
   ]
  },
  {
   "cell_type": "code",
   "execution_count": 19,
   "id": "ea505986",
   "metadata": {},
   "outputs": [
    {
     "data": {
      "text/plain": [
       "1"
      ]
     },
     "execution_count": 19,
     "metadata": {},
     "output_type": "execute_result"
    }
   ],
   "source": [
    "angka.count(5)\n",
    "# jumlah angkanya, misal 5 ada 1"
   ]
  },
  {
   "cell_type": "code",
   "execution_count": 21,
   "id": "cd2a32af",
   "metadata": {},
   "outputs": [
    {
     "data": {
      "text/plain": [
       "2"
      ]
     },
     "execution_count": 21,
     "metadata": {},
     "output_type": "execute_result"
    }
   ],
   "source": [
    "angka.count(1)\n",
    "# jumlah angkanya, banyaknya angka 1 ada 2"
   ]
  },
  {
   "cell_type": "code",
   "execution_count": 20,
   "id": "2a5eba13",
   "metadata": {},
   "outputs": [
    {
     "data": {
      "text/plain": [
       "4"
      ]
     },
     "execution_count": 20,
     "metadata": {},
     "output_type": "execute_result"
    }
   ],
   "source": [
    "angka.index(4)"
   ]
  },
  {
   "cell_type": "code",
   "execution_count": 26,
   "id": "61c2aed7",
   "metadata": {},
   "outputs": [
    {
     "ename": "ValueError",
     "evalue": "tuple.index(x): x not in tuple",
     "output_type": "error",
     "traceback": [
      "\u001b[1;31m---------------------------------------------------------------------------\u001b[0m",
      "\u001b[1;31mValueError\u001b[0m                                Traceback (most recent call last)",
      "\u001b[1;32m~\\AppData\\Local\\Temp\\ipykernel_19628\\1811526877.py\u001b[0m in \u001b[0;36m<module>\u001b[1;34m\u001b[0m\n\u001b[1;32m----> 1\u001b[1;33m \u001b[0mangka\u001b[0m\u001b[1;33m.\u001b[0m\u001b[0mindex\u001b[0m\u001b[1;33m(\u001b[0m\u001b[1;36m2\u001b[0m\u001b[1;33m)\u001b[0m\u001b[1;33m\u001b[0m\u001b[1;33m\u001b[0m\u001b[0m\n\u001b[0m",
      "\u001b[1;31mValueError\u001b[0m: tuple.index(x): x not in tuple"
     ]
    }
   ],
   "source": [
    "angka.index(2)\n",
    "# eror, karena angka 2 tidak ada di dalam isi angka"
   ]
  },
  {
   "cell_type": "code",
   "execution_count": null,
   "id": "da4ab46e",
   "metadata": {},
   "outputs": [],
   "source": []
  },
  {
   "cell_type": "markdown",
   "id": "83a16da6",
   "metadata": {},
   "source": [
    "## 5.18 Dictionaries"
   ]
  },
  {
   "cell_type": "markdown",
   "id": "9dd45187",
   "metadata": {},
   "source": [
    "Dictionaries digunakan jika data nya terkait satu sama lain. Misalnya data\n",
    "seseorang yang terdiri dari umur, nama, tanggal lahir merupakan satu kesatuan\n",
    "data yang bersumber dari orang tersebut."
   ]
  },
  {
   "cell_type": "code",
   "execution_count": 30,
   "id": "052c090d",
   "metadata": {},
   "outputs": [
    {
     "ename": "SyntaxError",
     "evalue": "unexpected EOF while parsing (1343803681.py, line 4)",
     "output_type": "error",
     "traceback": [
      "\u001b[1;36m  File \u001b[1;32m\"C:\\Users\\Intan\\AppData\\Local\\Temp\\ipykernel_19628\\1343803681.py\"\u001b[1;36m, line \u001b[1;32m4\u001b[0m\n\u001b[1;33m    \"apakah_single\" : False\u001b[0m\n\u001b[1;37m                           ^\u001b[0m\n\u001b[1;31mSyntaxError\u001b[0m\u001b[1;31m:\u001b[0m unexpected EOF while parsing\n"
     ]
    }
   ],
   "source": [
    "data_orang = {\n",
    "    \"nama\" : \"Nyoman Paul\",\n",
    "    \"umur\" : 22, \n",
    "    \"apakah_single\" : False"
   ]
  },
  {
   "cell_type": "code",
   "execution_count": 31,
   "id": "dc559c02",
   "metadata": {},
   "outputs": [
    {
     "name": "stdout",
     "output_type": "stream",
     "text": [
      "Nyoman Paul\n"
     ]
    }
   ],
   "source": [
    "print (data_orang[\"nama\"])"
   ]
  },
  {
   "cell_type": "code",
   "execution_count": 32,
   "id": "c80efe88",
   "metadata": {},
   "outputs": [
    {
     "ename": "KeyError",
     "evalue": "'Nama'",
     "output_type": "error",
     "traceback": [
      "\u001b[1;31m---------------------------------------------------------------------------\u001b[0m",
      "\u001b[1;31mKeyError\u001b[0m                                  Traceback (most recent call last)",
      "\u001b[1;32m~\\AppData\\Local\\Temp\\ipykernel_19628\\1594716993.py\u001b[0m in \u001b[0;36m<module>\u001b[1;34m\u001b[0m\n\u001b[1;32m----> 1\u001b[1;33m \u001b[0mprint\u001b[0m \u001b[1;33m(\u001b[0m\u001b[0mdata_orang\u001b[0m\u001b[1;33m[\u001b[0m\u001b[1;34m'Nama'\u001b[0m\u001b[1;33m]\u001b[0m\u001b[1;33m)\u001b[0m\u001b[1;33m\u001b[0m\u001b[1;33m\u001b[0m\u001b[0m\n\u001b[0m\u001b[0;32m      2\u001b[0m \u001b[1;31m# eror karena variabel yang dimasukan nama bukan Nama\u001b[0m\u001b[1;33m\u001b[0m\u001b[1;33m\u001b[0m\u001b[0m\n\u001b[0;32m      3\u001b[0m \u001b[1;31m# huruf besar dan kecil sangat mempengaruhi\u001b[0m\u001b[1;33m\u001b[0m\u001b[1;33m\u001b[0m\u001b[0m\n",
      "\u001b[1;31mKeyError\u001b[0m: 'Nama'"
     ]
    }
   ],
   "source": [
    "print (data_orang['Nama'])\n",
    "# eror karena variabel yang dimasukan nama bukan Nama\n",
    "# huruf besar dan kecil sangat mempengaruhi"
   ]
  },
  {
   "cell_type": "code",
   "execution_count": 33,
   "id": "fb9de7aa",
   "metadata": {},
   "outputs": [
    {
     "name": "stdout",
     "output_type": "stream",
     "text": [
      "Nyoman Paul\n"
     ]
    }
   ],
   "source": [
    "print (data_orang.get(\"nama\"))"
   ]
  },
  {
   "cell_type": "code",
   "execution_count": 34,
   "id": "519107a4",
   "metadata": {},
   "outputs": [
    {
     "name": "stdout",
     "output_type": "stream",
     "text": [
      "None\n"
     ]
    }
   ],
   "source": [
    "print (data_orang.get(\"Nama\"))"
   ]
  },
  {
   "cell_type": "code",
   "execution_count": 35,
   "id": "9b63ff94",
   "metadata": {},
   "outputs": [
    {
     "name": "stdout",
     "output_type": "stream",
     "text": [
      "None\n"
     ]
    }
   ],
   "source": [
    "print (data_orang.get(\"tanggal lahir\"))\n",
    "# karena tidak ada memasukan tanggal lahir"
   ]
  },
  {
   "cell_type": "code",
   "execution_count": 36,
   "id": "0c8be3fa",
   "metadata": {},
   "outputs": [
    {
     "name": "stdout",
     "output_type": "stream",
     "text": [
      "16 Juni 2001\n"
     ]
    }
   ],
   "source": [
    "print(data_orang.get(\"tanggal_lahir\", \"16 Juni 2001\"))"
   ]
  },
  {
   "cell_type": "code",
   "execution_count": 37,
   "id": "363829c4",
   "metadata": {},
   "outputs": [
    {
     "name": "stdout",
     "output_type": "stream",
     "text": [
      "{'nama': 'Nyoman Paul', 'umur': 22, 'apakah_single': False}\n"
     ]
    }
   ],
   "source": [
    "print (data_orang)"
   ]
  },
  {
   "cell_type": "code",
   "execution_count": 38,
   "id": "55e320d4",
   "metadata": {},
   "outputs": [
    {
     "ename": "KeyError",
     "evalue": "'tanggal_lahir'",
     "output_type": "error",
     "traceback": [
      "\u001b[1;31m---------------------------------------------------------------------------\u001b[0m",
      "\u001b[1;31mKeyError\u001b[0m                                  Traceback (most recent call last)",
      "\u001b[1;32m~\\AppData\\Local\\Temp\\ipykernel_19628\\3463751171.py\u001b[0m in \u001b[0;36m<module>\u001b[1;34m\u001b[0m\n\u001b[1;32m----> 1\u001b[1;33m \u001b[0mprint\u001b[0m\u001b[1;33m(\u001b[0m\u001b[0mdata_orang\u001b[0m\u001b[1;33m[\u001b[0m\u001b[1;34m\"tanggal_lahir\"\u001b[0m\u001b[1;33m]\u001b[0m\u001b[1;33m)\u001b[0m\u001b[1;33m\u001b[0m\u001b[1;33m\u001b[0m\u001b[0m\n\u001b[0m",
      "\u001b[1;31mKeyError\u001b[0m: 'tanggal_lahir'"
     ]
    }
   ],
   "source": [
    "print(data_orang[\"tanggal_lahir\"])"
   ]
  },
  {
   "cell_type": "code",
   "execution_count": 41,
   "id": "4e9668af",
   "metadata": {},
   "outputs": [],
   "source": [
    "data_orang[\"HP\"] = '08123456789'"
   ]
  },
  {
   "cell_type": "code",
   "execution_count": 42,
   "id": "5eeeb5f7",
   "metadata": {},
   "outputs": [
    {
     "name": "stdout",
     "output_type": "stream",
     "text": [
      "08123456789\n"
     ]
    }
   ],
   "source": [
    "print (data_orang[\"HP\"])"
   ]
  },
  {
   "cell_type": "code",
   "execution_count": 43,
   "id": "8bbd6a3d",
   "metadata": {},
   "outputs": [
    {
     "name": "stdout",
     "output_type": "stream",
     "text": [
      "{'nama': 'Nyoman Paul', 'umur': 22, 'apakah_single': False, 'HP': '08123456789'}\n"
     ]
    }
   ],
   "source": [
    "print (data_orang)"
   ]
  },
  {
   "cell_type": "markdown",
   "id": "b5a9c61e",
   "metadata": {},
   "source": [
    "## 5.19 Fungsi dalam Python"
   ]
  },
  {
   "cell_type": "markdown",
   "id": "8131a52d",
   "metadata": {},
   "source": [
    "Sampai sejauh ini tanpa disadari kita telah menerapkan beberapa jenis fungsi\n",
    "pada Python seperti fungsi input, print, len, range, dll. Pada dasarnya fungsi\n",
    "dibentuk untuk menghidari pengulangan pembuatan program secara manual\n",
    "dimana fungsi tersebut memiliki pengulangan yang tinggi dalam program yang\n",
    "kita buat. Jadi untuk mempermudah dan meringkas program yang kita buat,\n",
    "setiap fungsi tersebut dibutuhkan tinggal kita panggil."
   ]
  },
  {
   "cell_type": "markdown",
   "id": "ef0bcffa",
   "metadata": {},
   "source": [
    "#### Contoh fungsi dalam Python"
   ]
  },
  {
   "cell_type": "code",
   "execution_count": 50,
   "id": "952accbd",
   "metadata": {},
   "outputs": [],
   "source": [
    "def full_name(first_name,last_name) :\n",
    "    print (f\"Nama lengkapnya adalah {first_name} {last_name}\")"
   ]
  },
  {
   "cell_type": "code",
   "execution_count": 51,
   "id": "d570732f",
   "metadata": {},
   "outputs": [
    {
     "name": "stdout",
     "output_type": "stream",
     "text": [
      "Nama depan anda adalah Nyoman\n",
      "Nama belakang anda adalah Paul\n",
      "Nama lengkapnya adalah Nyoman Paul\n"
     ]
    }
   ],
   "source": [
    "first_name = input(\"Nama depan anda adalah \")\n",
    "last_name = input(\"Nama belakang anda adalah \")\n",
    "full_name(first_name,last_name)"
   ]
  },
  {
   "cell_type": "markdown",
   "id": "a2d10775",
   "metadata": {},
   "source": [
    "### 5.19.1 Tugas Fungsi pada Python"
   ]
  },
  {
   "cell_type": "markdown",
   "id": "404fa911",
   "metadata": {},
   "source": [
    "Ada dua jenis tugas fungsi pada Python yaitu:\n",
    "1. Menjalankan perintah.\n",
    "2. Menampilkan hasil perhitungan."
   ]
  },
  {
   "cell_type": "code",
   "execution_count": 52,
   "id": "aeed6120",
   "metadata": {},
   "outputs": [],
   "source": [
    "def waktu_sampai(jarak,kecepatan):\n",
    "    waktu = jarak/kecepatan\n",
    "    print(waktu)"
   ]
  },
  {
   "cell_type": "code",
   "execution_count": 53,
   "id": "f4c3b99f",
   "metadata": {},
   "outputs": [],
   "source": [
    "def waktu_tempuh(jarak,kecepatan) :\n",
    "    waktu = jarak/kecepatan\n",
    "    return waktu"
   ]
  },
  {
   "cell_type": "code",
   "execution_count": 54,
   "id": "d3c40582",
   "metadata": {},
   "outputs": [
    {
     "name": "stdout",
     "output_type": "stream",
     "text": [
      "1.3333333333333333\n"
     ]
    }
   ],
   "source": [
    "waktu_sampai(80,60)"
   ]
  },
  {
   "cell_type": "code",
   "execution_count": 55,
   "id": "0faf67cb",
   "metadata": {},
   "outputs": [
    {
     "data": {
      "text/plain": [
       "1.3333333333333333"
      ]
     },
     "execution_count": 55,
     "metadata": {},
     "output_type": "execute_result"
    }
   ],
   "source": [
    "waktu_tempuh(80,60)"
   ]
  },
  {
   "cell_type": "code",
   "execution_count": 67,
   "id": "10d61750",
   "metadata": {},
   "outputs": [
    {
     "name": "stdout",
     "output_type": "stream",
     "text": [
      "1.3333333333333333\n",
      "None\n"
     ]
    }
   ],
   "source": [
    "a = waktu_sampai(80,60)\n",
    "print (a)"
   ]
  },
  {
   "cell_type": "code",
   "execution_count": 68,
   "id": "0145fa6c",
   "metadata": {},
   "outputs": [
    {
     "name": "stdout",
     "output_type": "stream",
     "text": [
      "1.3333333333333333\n"
     ]
    }
   ],
   "source": [
    "b = waktu_tempuh(80,60)\n",
    "print (b)"
   ]
  },
  {
   "cell_type": "markdown",
   "id": "267dd68b",
   "metadata": {},
   "source": [
    "##  5.20 Numpy"
   ]
  },
  {
   "cell_type": "code",
   "execution_count": 1,
   "id": "2531241d",
   "metadata": {},
   "outputs": [],
   "source": [
    "import pandas as pd"
   ]
  },
  {
   "cell_type": "code",
   "execution_count": 2,
   "id": "759425ed",
   "metadata": {},
   "outputs": [],
   "source": [
    "import numpy"
   ]
  },
  {
   "cell_type": "markdown",
   "id": "9fce75ea",
   "metadata": {},
   "source": [
    "### 5.20.2 Memanggil Anggota, Kolom dan Baris dengan Numpy"
   ]
  },
  {
   "cell_type": "code",
   "execution_count": 5,
   "id": "bac56763",
   "metadata": {},
   "outputs": [
    {
     "name": "stdout",
     "output_type": "stream",
     "text": [
      "[0 1 2 3 4]\n"
     ]
    }
   ],
   "source": [
    "a = numpy.array([0,1,2,3,4])\n",
    "print (a)"
   ]
  },
  {
   "cell_type": "code",
   "execution_count": 7,
   "id": "c8f93558",
   "metadata": {},
   "outputs": [
    {
     "name": "stdout",
     "output_type": "stream",
     "text": [
      "[[5 6 7 8]\n",
      " [9 8 7 6]]\n"
     ]
    }
   ],
   "source": [
    "b = numpy.array([[5,6,7,8],[9,8,7,6]])\n",
    "print(b)"
   ]
  },
  {
   "cell_type": "code",
   "execution_count": 69,
   "id": "346234be",
   "metadata": {},
   "outputs": [
    {
     "ename": "NameError",
     "evalue": "name 'np' is not defined",
     "output_type": "error",
     "traceback": [
      "\u001b[1;31m---------------------------------------------------------------------------\u001b[0m",
      "\u001b[1;31mNameError\u001b[0m                                 Traceback (most recent call last)",
      "\u001b[1;32m~\\AppData\\Local\\Temp\\ipykernel_19628\\3162366180.py\u001b[0m in \u001b[0;36m<module>\u001b[1;34m\u001b[0m\n\u001b[1;32m----> 1\u001b[1;33m \u001b[0mc\u001b[0m \u001b[1;33m=\u001b[0m \u001b[0mnp\u001b[0m\u001b[1;33m.\u001b[0m\u001b[0marray\u001b[0m\u001b[1;33m(\u001b[0m\u001b[1;33m[\u001b[0m\u001b[1;33m[\u001b[0m\u001b[1;33m[\u001b[0m\u001b[1;36m0\u001b[0m\u001b[1;33m,\u001b[0m\u001b[1;36m1\u001b[0m\u001b[1;33m,\u001b[0m\u001b[1;36m2\u001b[0m\u001b[1;33m,\u001b[0m\u001b[1;36m3\u001b[0m\u001b[1;33m]\u001b[0m\u001b[1;33m,\u001b[0m\u001b[1;33m[\u001b[0m\u001b[1;36m4\u001b[0m\u001b[1;33m,\u001b[0m\u001b[1;36m5\u001b[0m\u001b[1;33m,\u001b[0m\u001b[1;36m6\u001b[0m\u001b[1;33m,\u001b[0m\u001b[1;36m7\u001b[0m\u001b[1;33m]\u001b[0m\u001b[1;33m]\u001b[0m\u001b[1;33m,\u001b[0m\u001b[1;33m[\u001b[0m\u001b[1;33m[\u001b[0m\u001b[1;36m8\u001b[0m\u001b[1;33m,\u001b[0m\u001b[1;36m9\u001b[0m\u001b[1;33m,\u001b[0m\u001b[1;36m8\u001b[0m\u001b[1;33m,\u001b[0m\u001b[1;36m7\u001b[0m\u001b[1;33m]\u001b[0m\u001b[1;33m,\u001b[0m\u001b[1;33m[\u001b[0m\u001b[1;36m6\u001b[0m\u001b[1;33m,\u001b[0m\u001b[1;36m5\u001b[0m\u001b[1;33m,\u001b[0m\u001b[1;36m4\u001b[0m\u001b[1;33m,\u001b[0m\u001b[1;36m3\u001b[0m\u001b[1;33m]\u001b[0m\u001b[1;33m]\u001b[0m\u001b[1;33m,\u001b[0m\u001b[1;33m[\u001b[0m\u001b[1;33m[\u001b[0m\u001b[1;36m1\u001b[0m\u001b[1;33m,\u001b[0m\u001b[1;36m2\u001b[0m\u001b[1;33m,\u001b[0m\u001b[1;36m3\u001b[0m\u001b[1;33m,\u001b[0m\u001b[1;36m4\u001b[0m\u001b[1;33m]\u001b[0m\u001b[1;33m,\u001b[0m\u001b[1;33m[\u001b[0m\u001b[1;36m5\u001b[0m\u001b[1;33m,\u001b[0m\u001b[1;36m6\u001b[0m\u001b[1;33m,\u001b[0m\u001b[1;36m7\u001b[0m\u001b[1;33m,\u001b[0m\u001b[1;36m8\u001b[0m\u001b[1;33m]\u001b[0m\u001b[1;33m]\u001b[0m\u001b[1;33m]\u001b[0m\u001b[1;33m)\u001b[0m\u001b[1;33m\u001b[0m\u001b[1;33m\u001b[0m\u001b[0m\n\u001b[0m\u001b[0;32m      2\u001b[0m \u001b[0mprint\u001b[0m\u001b[1;33m(\u001b[0m\u001b[0mc\u001b[0m\u001b[1;33m)\u001b[0m\u001b[1;33m\u001b[0m\u001b[1;33m\u001b[0m\u001b[0m\n",
      "\u001b[1;31mNameError\u001b[0m: name 'np' is not defined"
     ]
    }
   ],
   "source": [
    "c = nump.array([[[0,1,2,3],[4,5,6,7]],[[8,9,8,7],[6,5,4,3]],[[1,2,3,4],[5,6,7,8]]])\n",
    "print(c)"
   ]
  },
  {
   "cell_type": "code",
   "execution_count": null,
   "id": "d4ca917e",
   "metadata": {},
   "outputs": [],
   "source": [
    "tugas sampai numpy"
   ]
  }
 ],
 "metadata": {
  "kernelspec": {
   "display_name": "Python 3 (ipykernel)",
   "language": "python",
   "name": "python3"
  },
  "language_info": {
   "codemirror_mode": {
    "name": "ipython",
    "version": 3
   },
   "file_extension": ".py",
   "mimetype": "text/x-python",
   "name": "python",
   "nbconvert_exporter": "python",
   "pygments_lexer": "ipython3",
   "version": "3.9.13"
  }
 },
 "nbformat": 4,
 "nbformat_minor": 5
}
